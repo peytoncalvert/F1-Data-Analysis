{
  "nbformat": 4,
  "nbformat_minor": 0,
  "metadata": {
    "colab": {
      "provenance": []
    },
    "kernelspec": {
      "name": "python3",
      "display_name": "Python 3"
    },
    "language_info": {
      "name": "python"
    }
  },
  "cells": [
    {
      "cell_type": "code",
      "execution_count": null,
      "metadata": {
        "id": "FQ33tosZ594I"
      },
      "outputs": [],
      "source": [
        "#First all the includes\n",
        "import numpy as np\n",
        "import pandas as pd\n",
        "import sklearn as sk\n",
        "import sklearn.datasets\n",
        "import matplotlib.pyplot as plt\n",
        "\n",
        "from sklearn.linear_model import LinearRegression\n",
        "from sklearn.model_selection import train_test_split\n",
        "from pandas import DataFrame\n",
        "from sklearn import linear_model\n",
        "from sklearn.decomposition import PCA\n",
        "from sklearn.metrics import precision_recall_fscore_support"
      ]
    },
    {
      "cell_type": "code",
      "source": [
        "#next read in the data\n",
        "data = pd.read_csv('newCleanData.csv',sep=',')\n",
        "\n",
        "features = ['raceId','driverId','constructorId','number','grid','position','laps','milliseconds','fastestLap','fastestLapSeconds','fastestLapSpeed','statusId']\n",
        "targets = ['rank']\n",
        "\n",
        "data = data[['driverId','number','grid','position','laps','milliseconds','fastestLap','fastestLapSeconds','fastestLapSpeed','statusId','rank']]\n",
        "data.replace('\\\\N', pd.NA, inplace=True)\n",
        "data = data.dropna()\n",
        "data.astype(float)\n"
      ],
      "metadata": {
        "id": "hqBQh-NQ6il3"
      },
      "execution_count": null,
      "outputs": []
    },
    {
      "cell_type": "code",
      "source": [
        "#normalize data\n",
        "data.skew()"
      ],
      "metadata": {
        "id": "GbRmotrHAxqv"
      },
      "execution_count": null,
      "outputs": []
    },
    {
      "cell_type": "code",
      "source": [
        "results = pd.DataFrame(data['rank'])\n",
        "data.drop('rank',axis=1)\n",
        "results.astype(float)"
      ],
      "metadata": {
        "id": "Z3k94yWJCPEY"
      },
      "execution_count": null,
      "outputs": []
    },
    {
      "cell_type": "code",
      "source": [
        "#train test split\n",
        "trainX, testX, trainY, testY = train_test_split(data[['driverId','number','grid','position','laps','milliseconds','fastestLap','fastestLapSeconds','fastestLapSpeed','statusId']], results, test_size= 0.25, random_state= 123)\n"
      ],
      "metadata": {
        "id": "a2NHSzdG_9vb"
      },
      "execution_count": null,
      "outputs": []
    },
    {
      "cell_type": "code",
      "source": [
        "#Linear Regression\n",
        "#Create lr object\n",
        "lr = LinearRegression()\n",
        "\n",
        "#Train model\n",
        "lr.fit(trainX, trainY)\n",
        "\n",
        "#Test model\n",
        "predY = lr.predict(testX)\n",
        "\n",
        "from sklearn.metrics import mean_squared_error\n",
        "mse = mean_squared_error(testY, predY)\n",
        "rmse = np.sqrt(mse)\n",
        "print(mse)\n",
        "print(rmse)"
      ],
      "metadata": {
        "id": "Zk5CfMURAD6c"
      },
      "execution_count": null,
      "outputs": []
    },
    {
      "cell_type": "code",
      "source": [
        "#Logistic Regression\n",
        "logr = linear_model.LogisticRegression()\n",
        "logr.fit(trainX,trainY)\n",
        "predY = logr.predict(testX)\n",
        "mse = mean_squared_error(testY, predY)\n",
        "rmse = np.sqrt(mse)\n",
        "print(mse)\n",
        "rmse"
      ],
      "metadata": {
        "id": "070exRoWfFZP"
      },
      "execution_count": null,
      "outputs": []
    },
    {
      "cell_type": "code",
      "source": [
        "#SGD Regressor\n",
        "SGDReg =linear_model.SGDRegressor(\n",
        "   max_iter = 1000000000,penalty = \"elasticnet\",loss = 'huber',tol = 1e-3, average = True\n",
        ")\n",
        "SGDReg.fit(trainX, trainY)\n",
        "predY = SGDReg.predict(testX)\n",
        "mse = mean_squared_error(testY, predY)\n",
        "rmse = np.sqrt(mse)\n",
        "print(mse)\n",
        "rmse\n",
        "#this shit sucks"
      ],
      "metadata": {
        "id": "iXFserGbt-3L"
      },
      "execution_count": null,
      "outputs": []
    },
    {
      "cell_type": "code",
      "source": [
        "#Ridge Regressor\n",
        "from sklearn.linear_model import Ridge\n",
        "clf = Ridge(alpha=1000.0)\n",
        "clf.fit(trainX, trainY)\n",
        "predY = clf.predict(testX)\n",
        "mse = mean_squared_error(testY, predY)\n",
        "rmse = np.sqrt(mse)\n",
        "print(mse)\n",
        "rmse"
      ],
      "metadata": {
        "id": "zrJf3s8OuAlB"
      },
      "execution_count": null,
      "outputs": []
    }
  ]
}